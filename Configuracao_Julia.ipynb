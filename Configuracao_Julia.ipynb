{
 "cells": [
  {
   "cell_type": "markdown",
   "metadata": {},
   "source": [
    "# Usando Julia a primeira vez\n",
    "\n",
    "Para essas notas de aulas queremos usar cadernos de Julia baseados na versão 1.6 da linguagem.\n",
    "\n",
    "Estes cadernos, além de funcionarem como notas de aula, possuem código funcional. Creio que essa é uma ótima forma de explorar um pouco mais as ideias apresentadas e fazer seus próprios experimentos.\n",
    "\n",
    "Para poder rodar o código você deve instalar a Julia em um computador ao qual vocẽ tenha acesso. Para isso vá até o site da [Julia](https://julialang.org) e clique em \"Donwload\". Pegue o instalador adequado ao seu sistema operacional e siga as instruções. Uma opção para quem usa Windows é usar o [JuliaUp](https://www.microsoft.com/en-us/p/julia/9njnww8pvkmn). Ele pode ser instalado diretamente a da loja de aplicativos do sistema.\n",
    "\n",
    "Depois de instalar, será preciso abrir um terminal, criar um diretório de trabalho e digitar `julia`. Isso irá abrir o interpretador de comandos da linguagem no seu modo mais simples. Precisamos disso para instalar o ambiente Jupyter que será capaz de lidar com os cadernos. No interpretador digite:\n",
    "\n",
    "```julia\n",
    "using Pkg\n",
    "Pkg.add(\"IJulia\")\n",
    "```\n",
    "\n",
    "Isso irá abrir instalar o [Jupyter](https://jupyter.org/), que é o sistema de cadernos. Depois disso, a qualquer momento você poderá passar a ler e editar baixados da disciplina. Para isso basta entrar na linha de comando mais uma vez, de novo digitar `julia` e então\n",
    "\n",
    "```\n",
    "using IJulia\n",
    "notebook(dir=pwd())\n",
    "```\n",
    "\n",
    "Isso vai iniciar o Jupyter e o browser abrirá uma nova aba para você selecionar um caderno no diretório atual e trabalhar com ele. Em seguida, vale à pena você seguir a leitura e executar os comandos abaixo para instalar outros pacotes que são necessário.\n",
    "\n",
    "Para conseguir isso basta colocar o cursor na caixa abaixo e apertar shift-enter."
   ]
  },
  {
   "cell_type": "code",
   "execution_count": 2,
   "metadata": {},
   "outputs": [
    {
     "name": "stdout",
     "output_type": "stream",
     "text": [
      "---------------- Pronto ----------------\n"
     ]
    }
   ],
   "source": [
    "# Instala alguns pacotes fundamentais para o geração de gráficos.\n",
    "using Pkg\n",
    "Pkg.add(\"PyCall\")\n",
    "Pkg.add(\"PyPlot\")\n",
    "Pkg.add(\"Plots\")\n",
    "println(\"---------------- Pronto ----------------\")"
   ]
  },
  {
   "cell_type": "markdown",
   "metadata": {},
   "source": [
    "Se você está de fato rodando os comandos acima a primeira vez ele pode demorar um pouco. Vá tomar um café e espere até aparecer a mensagem\n",
    "\n",
    "`---------------- Pronto ----------------`\n",
    "\n",
    "Depois disso, devido a um pequeno bug no sistema, você precisa reiniciar o programa que roda os códigos em Julia que é chamado de Kernel. Para isso selecione o menu `Kernel` acima e em seguida a opção `Restart` e confirme. Depois de alguns segundos você verá piscar no canto superior direito a mensagem `Kernel ready`. Agora está tudo pronto.\n",
    "\n",
    "Para testar se os pacotes foram instalados corretamente. Rode o código abaixo mais uma vez colocando o cursor lá e apertando `shift-enter` no teclado. Se deu tudo certo aparecerá o gráfico de uma função linear. Tenha um pouco de paciência, a primeira vez que você tenta gerar um gráfico é demorado. Os próximos gráficos devem aparecer mais rapidamente.\n",
    "\n",
    "Caso gráfico da função não apareça sugiro que você feche esse caderno com `File -> Close and halt` e tente de novo."
   ]
  },
  {
   "cell_type": "code",
   "execution_count": 4,
   "metadata": {},
   "outputs": [
    {
     "data": {
      "image/svg+xml": [
       "<?xml version=\"1.0\" encoding=\"utf-8\"?>\n",
       "<svg xmlns=\"http://www.w3.org/2000/svg\" xmlns:xlink=\"http://www.w3.org/1999/xlink\" width=\"600\" height=\"400\" viewBox=\"0 0 2400 1600\">\n",
       "<defs>\n",
       "  <clipPath id=\"clip980\">\n",
       "    <rect x=\"0\" y=\"0\" width=\"2400\" height=\"1600\"/>\n",
       "  </clipPath>\n",
       "</defs>\n",
       "<path clip-path=\"url(#clip980)\" d=\"\n",
       "M0 1600 L2400 1600 L2400 0 L0 0  Z\n",
       "  \" fill=\"#ffffff\" fill-rule=\"evenodd\" fill-opacity=\"1\"/>\n",
       "<defs>\n",
       "  <clipPath id=\"clip981\">\n",
       "    <rect x=\"480\" y=\"0\" width=\"1681\" height=\"1600\"/>\n",
       "  </clipPath>\n",
       "</defs>\n",
       "<path clip-path=\"url(#clip980)\" d=\"\n",
       "M138.959 1486.45 L2352.76 1486.45 L2352.76 47.2441 L138.959 47.2441  Z\n",
       "  \" fill=\"#ffffff\" fill-rule=\"evenodd\" fill-opacity=\"1\"/>\n",
       "<defs>\n",
       "  <clipPath id=\"clip982\">\n",
       "    <rect x=\"138\" y=\"47\" width=\"2215\" height=\"1440\"/>\n",
       "  </clipPath>\n",
       "</defs>\n",
       "<polyline clip-path=\"url(#clip982)\" style=\"stroke:#000000; stroke-linecap:butt; stroke-linejoin:round; stroke-width:2; stroke-opacity:0.1; fill:none\" points=\"\n",
       "  201.614,1486.45 201.614,47.2441 \n",
       "  \"/>\n",
       "<polyline clip-path=\"url(#clip982)\" style=\"stroke:#000000; stroke-linecap:butt; stroke-linejoin:round; stroke-width:2; stroke-opacity:0.1; fill:none\" points=\"\n",
       "  897.776,1486.45 897.776,47.2441 \n",
       "  \"/>\n",
       "<polyline clip-path=\"url(#clip982)\" style=\"stroke:#000000; stroke-linecap:butt; stroke-linejoin:round; stroke-width:2; stroke-opacity:0.1; fill:none\" points=\"\n",
       "  1593.94,1486.45 1593.94,47.2441 \n",
       "  \"/>\n",
       "<polyline clip-path=\"url(#clip982)\" style=\"stroke:#000000; stroke-linecap:butt; stroke-linejoin:round; stroke-width:2; stroke-opacity:0.1; fill:none\" points=\"\n",
       "  2290.1,1486.45 2290.1,47.2441 \n",
       "  \"/>\n",
       "<polyline clip-path=\"url(#clip980)\" style=\"stroke:#000000; stroke-linecap:butt; stroke-linejoin:round; stroke-width:4; stroke-opacity:1; fill:none\" points=\"\n",
       "  138.959,1486.45 2352.76,1486.45 \n",
       "  \"/>\n",
       "<polyline clip-path=\"url(#clip980)\" style=\"stroke:#000000; stroke-linecap:butt; stroke-linejoin:round; stroke-width:4; stroke-opacity:1; fill:none\" points=\"\n",
       "  201.614,1486.45 201.614,1469.18 \n",
       "  \"/>\n",
       "<polyline clip-path=\"url(#clip980)\" style=\"stroke:#000000; stroke-linecap:butt; stroke-linejoin:round; stroke-width:4; stroke-opacity:1; fill:none\" points=\"\n",
       "  897.776,1486.45 897.776,1469.18 \n",
       "  \"/>\n",
       "<polyline clip-path=\"url(#clip980)\" style=\"stroke:#000000; stroke-linecap:butt; stroke-linejoin:round; stroke-width:4; stroke-opacity:1; fill:none\" points=\"\n",
       "  1593.94,1486.45 1593.94,1469.18 \n",
       "  \"/>\n",
       "<polyline clip-path=\"url(#clip980)\" style=\"stroke:#000000; stroke-linecap:butt; stroke-linejoin:round; stroke-width:4; stroke-opacity:1; fill:none\" points=\"\n",
       "  2290.1,1486.45 2290.1,1469.18 \n",
       "  \"/>\n",
       "<path clip-path=\"url(#clip980)\" d=\"M196.267 1543.18 L212.586 1543.18 L212.586 1547.12 L190.642 1547.12 L190.642 1543.18 Q193.304 1540.43 197.887 1535.8 Q202.494 1531.15 203.674 1529.81 Q205.92 1527.28 206.799 1525.55 Q207.702 1523.79 207.702 1522.1 Q207.702 1519.34 205.758 1517.61 Q203.836 1515.87 200.734 1515.87 Q198.535 1515.87 196.082 1516.63 Q193.651 1517.4 190.873 1518.95 L190.873 1514.23 Q193.697 1513.09 196.151 1512.51 Q198.605 1511.93 200.642 1511.93 Q206.012 1511.93 209.207 1514.62 Q212.401 1517.31 212.401 1521.8 Q212.401 1523.93 211.591 1525.85 Q210.804 1527.74 208.697 1530.34 Q208.119 1531.01 205.017 1534.23 Q201.915 1537.42 196.267 1543.18 Z\" fill=\"#000000\" fill-rule=\"evenodd\" fill-opacity=\"1\" /><path clip-path=\"url(#clip980)\" d=\"M902.024 1528.49 Q905.381 1529.2 907.256 1531.47 Q909.154 1533.74 909.154 1537.07 Q909.154 1542.19 905.635 1544.99 Q902.117 1547.79 895.635 1547.79 Q893.459 1547.79 891.145 1547.35 Q888.853 1546.93 886.399 1546.08 L886.399 1541.56 Q888.344 1542.7 890.658 1543.28 Q892.973 1543.86 895.496 1543.86 Q899.895 1543.86 902.186 1542.12 Q904.501 1540.38 904.501 1537.07 Q904.501 1534.02 902.348 1532.31 Q900.219 1530.57 896.399 1530.57 L892.371 1530.57 L892.371 1526.73 L896.584 1526.73 Q900.033 1526.73 901.862 1525.36 Q903.691 1523.97 903.691 1521.38 Q903.691 1518.72 901.793 1517.31 Q899.918 1515.87 896.399 1515.87 Q894.478 1515.87 892.279 1516.29 Q890.08 1516.7 887.441 1517.58 L887.441 1513.42 Q890.103 1512.68 892.418 1512.31 Q894.756 1511.93 896.816 1511.93 Q902.14 1511.93 905.242 1514.37 Q908.344 1516.77 908.344 1520.89 Q908.344 1523.76 906.7 1525.75 Q905.057 1527.72 902.024 1528.49 Z\" fill=\"#000000\" fill-rule=\"evenodd\" fill-opacity=\"1\" /><path clip-path=\"url(#clip980)\" d=\"M1596.95 1516.63 L1585.14 1535.08 L1596.95 1535.08 L1596.95 1516.63 M1595.72 1512.56 L1601.6 1512.56 L1601.6 1535.08 L1606.53 1535.08 L1606.53 1538.97 L1601.6 1538.97 L1601.6 1547.12 L1596.95 1547.12 L1596.95 1538.97 L1581.35 1538.97 L1581.35 1534.46 L1595.72 1512.56 Z\" fill=\"#000000\" fill-rule=\"evenodd\" fill-opacity=\"1\" /><path clip-path=\"url(#clip980)\" d=\"M2280.38 1512.56 L2298.74 1512.56 L2298.74 1516.5 L2284.66 1516.5 L2284.66 1524.97 Q2285.68 1524.62 2286.7 1524.46 Q2287.72 1524.27 2288.74 1524.27 Q2294.52 1524.27 2297.9 1527.44 Q2301.28 1530.62 2301.28 1536.03 Q2301.28 1541.61 2297.81 1544.71 Q2294.34 1547.79 2288.02 1547.79 Q2285.84 1547.79 2283.57 1547.42 Q2281.33 1547.05 2278.92 1546.31 L2278.92 1541.61 Q2281 1542.74 2283.23 1543.3 Q2285.45 1543.86 2287.93 1543.86 Q2291.93 1543.86 2294.27 1541.75 Q2296.61 1539.64 2296.61 1536.03 Q2296.61 1532.42 2294.27 1530.31 Q2291.93 1528.21 2287.93 1528.21 Q2286.05 1528.21 2284.18 1528.62 Q2282.32 1529.04 2280.38 1529.92 L2280.38 1512.56 Z\" fill=\"#000000\" fill-rule=\"evenodd\" fill-opacity=\"1\" /><polyline clip-path=\"url(#clip982)\" style=\"stroke:#000000; stroke-linecap:butt; stroke-linejoin:round; stroke-width:2; stroke-opacity:0.1; fill:none\" points=\"\n",
       "  138.959,1445.72 2352.76,1445.72 \n",
       "  \"/>\n",
       "<polyline clip-path=\"url(#clip982)\" style=\"stroke:#000000; stroke-linecap:butt; stroke-linejoin:round; stroke-width:2; stroke-opacity:0.1; fill:none\" points=\"\n",
       "  138.959,1219.43 2352.76,1219.43 \n",
       "  \"/>\n",
       "<polyline clip-path=\"url(#clip982)\" style=\"stroke:#000000; stroke-linecap:butt; stroke-linejoin:round; stroke-width:2; stroke-opacity:0.1; fill:none\" points=\"\n",
       "  138.959,993.136 2352.76,993.136 \n",
       "  \"/>\n",
       "<polyline clip-path=\"url(#clip982)\" style=\"stroke:#000000; stroke-linecap:butt; stroke-linejoin:round; stroke-width:2; stroke-opacity:0.1; fill:none\" points=\"\n",
       "  138.959,766.846 2352.76,766.846 \n",
       "  \"/>\n",
       "<polyline clip-path=\"url(#clip982)\" style=\"stroke:#000000; stroke-linecap:butt; stroke-linejoin:round; stroke-width:2; stroke-opacity:0.1; fill:none\" points=\"\n",
       "  138.959,540.556 2352.76,540.556 \n",
       "  \"/>\n",
       "<polyline clip-path=\"url(#clip982)\" style=\"stroke:#000000; stroke-linecap:butt; stroke-linejoin:round; stroke-width:2; stroke-opacity:0.1; fill:none\" points=\"\n",
       "  138.959,314.266 2352.76,314.266 \n",
       "  \"/>\n",
       "<polyline clip-path=\"url(#clip982)\" style=\"stroke:#000000; stroke-linecap:butt; stroke-linejoin:round; stroke-width:2; stroke-opacity:0.1; fill:none\" points=\"\n",
       "  138.959,87.9763 2352.76,87.9763 \n",
       "  \"/>\n",
       "<polyline clip-path=\"url(#clip980)\" style=\"stroke:#000000; stroke-linecap:butt; stroke-linejoin:round; stroke-width:4; stroke-opacity:1; fill:none\" points=\"\n",
       "  138.959,1486.45 138.959,47.2441 \n",
       "  \"/>\n",
       "<polyline clip-path=\"url(#clip980)\" style=\"stroke:#000000; stroke-linecap:butt; stroke-linejoin:round; stroke-width:4; stroke-opacity:1; fill:none\" points=\"\n",
       "  138.959,1445.72 165.525,1445.72 \n",
       "  \"/>\n",
       "<polyline clip-path=\"url(#clip980)\" style=\"stroke:#000000; stroke-linecap:butt; stroke-linejoin:round; stroke-width:4; stroke-opacity:1; fill:none\" points=\"\n",
       "  138.959,1219.43 165.525,1219.43 \n",
       "  \"/>\n",
       "<polyline clip-path=\"url(#clip980)\" style=\"stroke:#000000; stroke-linecap:butt; stroke-linejoin:round; stroke-width:4; stroke-opacity:1; fill:none\" points=\"\n",
       "  138.959,993.136 165.525,993.136 \n",
       "  \"/>\n",
       "<polyline clip-path=\"url(#clip980)\" style=\"stroke:#000000; stroke-linecap:butt; stroke-linejoin:round; stroke-width:4; stroke-opacity:1; fill:none\" points=\"\n",
       "  138.959,766.846 165.525,766.846 \n",
       "  \"/>\n",
       "<polyline clip-path=\"url(#clip980)\" style=\"stroke:#000000; stroke-linecap:butt; stroke-linejoin:round; stroke-width:4; stroke-opacity:1; fill:none\" points=\"\n",
       "  138.959,540.556 165.525,540.556 \n",
       "  \"/>\n",
       "<polyline clip-path=\"url(#clip980)\" style=\"stroke:#000000; stroke-linecap:butt; stroke-linejoin:round; stroke-width:4; stroke-opacity:1; fill:none\" points=\"\n",
       "  138.959,314.266 165.525,314.266 \n",
       "  \"/>\n",
       "<polyline clip-path=\"url(#clip980)\" style=\"stroke:#000000; stroke-linecap:butt; stroke-linejoin:round; stroke-width:4; stroke-opacity:1; fill:none\" points=\"\n",
       "  138.959,87.9763 165.525,87.9763 \n",
       "  \"/>\n",
       "<path clip-path=\"url(#clip980)\" d=\"M80.7373 1428.44 L102.959 1428.44 L102.959 1430.43 L90.4132 1463 L85.529 1463 L97.3345 1432.37 L80.7373 1432.37 L80.7373 1428.44 Z\" fill=\"#000000\" fill-rule=\"evenodd\" fill-opacity=\"1\" /><path clip-path=\"url(#clip980)\" d=\"M91.1077 1220.29 Q87.7743 1220.29 85.8531 1222.08 Q83.9549 1223.86 83.9549 1226.98 Q83.9549 1230.11 85.8531 1231.89 Q87.7743 1233.67 91.1077 1233.67 Q94.441 1233.67 96.3623 1231.89 Q98.2835 1230.09 98.2835 1226.98 Q98.2835 1223.86 96.3623 1222.08 Q94.4641 1220.29 91.1077 1220.29 M86.4318 1218.3 Q83.4225 1217.56 81.7327 1215.5 Q80.066 1213.44 80.066 1210.48 Q80.066 1206.34 83.0058 1203.93 Q85.9688 1201.52 91.1077 1201.52 Q96.2697 1201.52 99.2095 1203.93 Q102.149 1206.34 102.149 1210.48 Q102.149 1213.44 100.459 1215.5 Q98.7928 1217.56 95.8067 1218.3 Q99.1863 1219.09 101.061 1221.38 Q102.959 1223.67 102.959 1226.98 Q102.959 1232.01 99.8808 1234.69 Q96.8252 1237.38 91.1077 1237.38 Q85.3901 1237.38 82.3114 1234.69 Q79.2559 1232.01 79.2559 1226.98 Q79.2559 1223.67 81.154 1221.38 Q83.0521 1219.09 86.4318 1218.3 M84.7188 1210.92 Q84.7188 1213.6 86.3855 1215.11 Q88.0753 1216.61 91.1077 1216.61 Q94.1169 1216.61 95.8067 1215.11 Q97.5197 1213.6 97.5197 1210.92 Q97.5197 1208.23 95.8067 1206.73 Q94.1169 1205.22 91.1077 1205.22 Q88.0753 1205.22 86.3855 1206.73 Q84.7188 1208.23 84.7188 1210.92 Z\" fill=\"#000000\" fill-rule=\"evenodd\" fill-opacity=\"1\" /><path clip-path=\"url(#clip980)\" d=\"M81.3392 1009.7 L81.3392 1005.44 Q83.0984 1006.27 84.904 1006.71 Q86.7095 1007.15 88.4456 1007.15 Q93.0752 1007.15 95.5058 1004.05 Q97.9595 1000.93 98.3067 994.583 Q96.9641 996.573 94.9039 997.638 Q92.8438 998.703 90.3438 998.703 Q85.1586 998.703 82.1262 995.578 Q79.117 992.43 79.117 986.99 Q79.117 981.666 82.2651 978.448 Q85.4132 975.231 90.6447 975.231 Q96.64 975.231 99.7882 979.837 Q102.959 984.421 102.959 993.171 Q102.959 1001.34 99.0706 1006.23 Q95.2049 1011.09 88.654 1011.09 Q86.8947 1011.09 85.0892 1010.74 Q83.2836 1010.39 81.3392 1009.7 M90.6447 995.046 Q93.7928 995.046 95.6215 992.893 Q97.4734 990.74 97.4734 986.99 Q97.4734 983.263 95.6215 981.11 Q93.7928 978.935 90.6447 978.935 Q87.4966 978.935 85.6447 981.11 Q83.816 983.263 83.816 986.99 Q83.816 990.74 85.6447 992.893 Q87.4966 995.046 90.6447 995.046 Z\" fill=\"#000000\" fill-rule=\"evenodd\" fill-opacity=\"1\" /><path clip-path=\"url(#clip980)\" d=\"M51.6634 780.191 L59.3023 780.191 L59.3023 753.825 L50.9921 755.492 L50.9921 751.233 L59.256 749.566 L63.9319 749.566 L63.9319 780.191 L71.5707 780.191 L71.5707 784.126 L51.6634 784.126 L51.6634 780.191 Z\" fill=\"#000000\" fill-rule=\"evenodd\" fill-opacity=\"1\" /><path clip-path=\"url(#clip980)\" d=\"M91.0151 752.645 Q87.404 752.645 85.5753 756.209 Q83.7697 759.751 83.7697 766.881 Q83.7697 773.987 85.5753 777.552 Q87.404 781.094 91.0151 781.094 Q94.6493 781.094 96.4548 777.552 Q98.2835 773.987 98.2835 766.881 Q98.2835 759.751 96.4548 756.209 Q94.6493 752.645 91.0151 752.645 M91.0151 748.941 Q96.8252 748.941 99.8808 753.547 Q102.959 758.131 102.959 766.881 Q102.959 775.608 99.8808 780.214 Q96.8252 784.797 91.0151 784.797 Q85.2049 784.797 82.1262 780.214 Q79.0707 775.608 79.0707 766.881 Q79.0707 758.131 82.1262 753.547 Q85.2049 748.941 91.0151 748.941 Z\" fill=\"#000000\" fill-rule=\"evenodd\" fill-opacity=\"1\" /><path clip-path=\"url(#clip980)\" d=\"M52.8903 553.901 L60.5291 553.901 L60.5291 527.535 L52.219 529.202 L52.219 524.943 L60.4828 523.276 L65.1587 523.276 L65.1587 553.901 L72.7976 553.901 L72.7976 557.836 L52.8903 557.836 L52.8903 553.901 Z\" fill=\"#000000\" fill-rule=\"evenodd\" fill-opacity=\"1\" /><path clip-path=\"url(#clip980)\" d=\"M83.0521 553.901 L90.691 553.901 L90.691 527.535 L82.3808 529.202 L82.3808 524.943 L90.6447 523.276 L95.3206 523.276 L95.3206 553.901 L102.959 553.901 L102.959 557.836 L83.0521 557.836 L83.0521 553.901 Z\" fill=\"#000000\" fill-rule=\"evenodd\" fill-opacity=\"1\" /><path clip-path=\"url(#clip980)\" d=\"M53.2606 327.611 L60.8995 327.611 L60.8995 301.245 L52.5893 302.912 L52.5893 298.653 L60.8532 296.986 L65.5291 296.986 L65.5291 327.611 L73.1679 327.611 L73.1679 331.546 L53.2606 331.546 L53.2606 327.611 Z\" fill=\"#000000\" fill-rule=\"evenodd\" fill-opacity=\"1\" /><path clip-path=\"url(#clip980)\" d=\"M86.6401 327.611 L102.959 327.611 L102.959 331.546 L81.0151 331.546 L81.0151 327.611 Q83.6771 324.856 88.2604 320.227 Q92.8669 315.574 94.0475 314.231 Q96.2928 311.708 97.1724 309.972 Q98.0752 308.213 98.0752 306.523 Q98.0752 303.769 96.1308 302.032 Q94.2095 300.296 91.1077 300.296 Q88.9086 300.296 86.4549 301.06 Q84.0244 301.824 81.2466 303.375 L81.2466 298.653 Q84.0707 297.519 86.5243 296.94 Q88.978 296.361 91.0151 296.361 Q96.3854 296.361 99.5798 299.046 Q102.774 301.732 102.774 306.222 Q102.774 308.352 101.964 310.273 Q101.177 312.171 99.0706 314.764 Q98.4919 315.435 95.39 318.653 Q92.2882 321.847 86.6401 327.611 Z\" fill=\"#000000\" fill-rule=\"evenodd\" fill-opacity=\"1\" /><path clip-path=\"url(#clip980)\" d=\"M52.3116 101.321 L59.9504 101.321 L59.9504 74.9555 L51.6403 76.6222 L51.6403 72.3629 L59.9041 70.6963 L64.58 70.6963 L64.58 101.321 L72.2189 101.321 L72.2189 105.256 L52.3116 105.256 L52.3116 101.321 Z\" fill=\"#000000\" fill-rule=\"evenodd\" fill-opacity=\"1\" /><path clip-path=\"url(#clip980)\" d=\"M95.8298 86.6221 Q99.1863 87.3397 101.061 89.6082 Q102.959 91.8767 102.959 95.21 Q102.959 100.326 99.4409 103.127 Q95.9224 105.928 89.441 105.928 Q87.2651 105.928 84.9503 105.488 Q82.6586 105.071 80.2049 104.215 L80.2049 99.7008 Q82.1494 100.835 84.4642 101.414 Q86.779 101.992 89.3021 101.992 Q93.7002 101.992 95.9919 100.256 Q98.3067 98.5202 98.3067 95.21 Q98.3067 92.1545 96.1539 90.4415 Q94.0243 88.7054 90.2049 88.7054 L86.1771 88.7054 L86.1771 84.8629 L90.3901 84.8629 Q93.8391 84.8629 95.6678 83.4971 Q97.4965 82.1083 97.4965 79.5157 Q97.4965 76.8537 95.5984 75.4416 Q93.7234 74.0064 90.2049 74.0064 Q88.2836 74.0064 86.0845 74.4231 Q83.8855 74.8398 81.2466 75.7194 L81.2466 71.5528 Q83.9086 70.812 86.2234 70.4416 Q88.5614 70.0713 90.6215 70.0713 Q95.9456 70.0713 99.0474 72.5018 Q102.149 74.9092 102.149 79.0296 Q102.149 81.8999 100.506 83.8907 Q98.8622 85.8582 95.8298 86.6221 Z\" fill=\"#000000\" fill-rule=\"evenodd\" fill-opacity=\"1\" /><polyline clip-path=\"url(#clip982)\" style=\"stroke:#009af9; stroke-linecap:butt; stroke-linejoin:round; stroke-width:4; stroke-opacity:1; fill:none\" points=\"\n",
       "  201.614,1445.72 222.71,1432 243.806,1418.29 264.902,1404.57 285.997,1390.86 307.093,1377.14 328.189,1363.43 349.285,1349.71 370.381,1336 391.477,1322.28 \n",
       "  412.572,1308.57 433.668,1294.86 454.764,1281.14 475.86,1267.43 496.956,1253.71 518.052,1240 539.147,1226.28 560.243,1212.57 581.339,1198.85 602.435,1185.14 \n",
       "  623.531,1171.42 644.627,1157.71 665.722,1144 686.818,1130.28 707.914,1116.57 729.01,1102.85 750.106,1089.14 771.201,1075.42 792.297,1061.71 813.393,1047.99 \n",
       "  834.489,1034.28 855.585,1020.56 876.681,1006.85 897.776,993.136 918.872,979.421 939.968,965.707 961.064,951.992 982.16,938.278 1003.26,924.563 1024.35,910.849 \n",
       "  1045.45,897.134 1066.54,883.42 1087.64,869.705 1108.73,855.99 1129.83,842.276 1150.93,828.561 1172.02,814.847 1193.12,801.132 1214.21,787.418 1235.31,773.703 \n",
       "  1256.41,759.989 1277.5,746.274 1298.6,732.56 1319.69,718.845 1340.79,705.131 1361.88,691.416 1382.98,677.701 1404.08,663.987 1425.17,650.272 1446.27,636.558 \n",
       "  1467.36,622.843 1488.46,609.129 1509.56,595.414 1530.65,581.7 1551.75,567.985 1572.84,554.271 1593.94,540.556 1615.03,526.842 1636.13,513.127 1657.23,499.412 \n",
       "  1678.32,485.698 1699.42,471.983 1720.51,458.269 1741.61,444.554 1762.71,430.84 1783.8,417.125 1804.9,403.411 1825.99,389.696 1847.09,375.982 1868.18,362.267 \n",
       "  1889.28,348.553 1910.38,334.838 1931.47,321.123 1952.57,307.409 1973.66,293.694 1994.76,279.98 2015.86,266.265 2036.95,252.551 2058.05,238.836 2079.14,225.122 \n",
       "  2100.24,211.407 2121.33,197.693 2142.43,183.978 2163.53,170.264 2184.62,156.549 2205.72,142.834 2226.81,129.12 2247.91,115.405 2269.01,101.691 2290.1,87.9763 \n",
       "  \n",
       "  \"/>\n",
       "<path clip-path=\"url(#clip980)\" d=\"\n",
       "M1980.56 198.898 L2278.96 198.898 L2278.96 95.2176 L1980.56 95.2176  Z\n",
       "  \" fill=\"#ffffff\" fill-rule=\"evenodd\" fill-opacity=\"1\"/>\n",
       "<polyline clip-path=\"url(#clip980)\" style=\"stroke:#000000; stroke-linecap:butt; stroke-linejoin:round; stroke-width:4; stroke-opacity:1; fill:none\" points=\"\n",
       "  1980.56,198.898 2278.96,198.898 2278.96,95.2176 1980.56,95.2176 1980.56,198.898 \n",
       "  \"/>\n",
       "<polyline clip-path=\"url(#clip980)\" style=\"stroke:#009af9; stroke-linecap:butt; stroke-linejoin:round; stroke-width:4; stroke-opacity:1; fill:none\" points=\"\n",
       "  2005.15,147.058 2152.74,147.058 \n",
       "  \"/>\n",
       "<path clip-path=\"url(#clip980)\" d=\"M2191.18 166.745 Q2189.37 171.375 2187.66 172.787 Q2185.95 174.199 2183.08 174.199 L2179.67 174.199 L2179.67 170.634 L2182.17 170.634 Q2183.93 170.634 2184.91 169.8 Q2185.88 168.967 2187.06 165.865 L2187.82 163.921 L2177.34 138.412 L2181.85 138.412 L2189.95 158.689 L2198.05 138.412 L2202.57 138.412 L2191.18 166.745 Z\" fill=\"#000000\" fill-rule=\"evenodd\" fill-opacity=\"1\" /><path clip-path=\"url(#clip980)\" d=\"M2209.86 160.402 L2217.5 160.402 L2217.5 134.037 L2209.19 135.703 L2209.19 131.444 L2217.45 129.778 L2222.13 129.778 L2222.13 160.402 L2229.77 160.402 L2229.77 164.338 L2209.86 164.338 L2209.86 160.402 Z\" fill=\"#000000\" fill-rule=\"evenodd\" fill-opacity=\"1\" /></svg>\n"
      ]
     },
     "execution_count": 4,
     "metadata": {},
     "output_type": "execute_result"
    }
   ],
   "source": [
    "# Carrega a biblioteca Plots para uso\n",
    "using Plots\n",
    "\n",
    "# Gera um vetor de 100 pontos equiespaçados começando no 2 e terminando no 5.\n",
    "x = range(2, stop=5, length=100)\n",
    "plot(x, 2*x .+ 3)"
   ]
  },
  {
   "cell_type": "markdown",
   "metadata": {
    "collapsed": true
   },
   "source": [
    "Por fim, para provar que você chegou até aqui rode o código abaixo para saber a resposta para obter a resposta para o primeiro quizz no Moodle."
   ]
  },
  {
   "cell_type": "code",
   "execution_count": 10,
   "metadata": {},
   "outputs": [
    {
     "name": "stdout",
     "output_type": "stream",
     "text": [
      "A resposta é 2.72\n"
     ]
    }
   ],
   "source": [
    "A = [pi 2*pi; 1 0]\n",
    "b = [1, e]\n",
    "sol = A \\ b\n",
    "@printf \"A resposta é %.2f\\n\" sol[1]"
   ]
  }
 ],
 "metadata": {
  "kernelspec": {
   "display_name": "Julia 1.6.1",
   "language": "julia",
   "name": "julia-1.6"
  },
  "language_info": {
   "file_extension": ".jl",
   "mimetype": "application/julia",
   "name": "julia",
   "version": "1.6.1"
  }
 },
 "nbformat": 4,
 "nbformat_minor": 1
}
