{
 "cells": [
  {
   "cell_type": "markdown",
   "metadata": {},
   "source": [
    "$$\n",
    "\\renewcommand{\\erf}{\\operatorname{erf}}\n",
    "$$"
   ]
  },
  {
   "cell_type": "markdown",
   "metadata": {},
   "source": [
    "# Integração Numérica\n",
    "\n",
    "Imagine que estamos interessado em calcular a integral de uma função $f$ em um intervalo $[a, b]$.\n",
    "$$\n",
    "I \\equiv \\int_a^b f(x) dx.\n",
    "$$\n",
    "Em cálculo vimos que isso pode ser feito usando o teorema fundametal do cálculo sempre que conhecemos uma primitiva de $f$. Infelizmente em alguns casos não conhecemos uma primitiva. Um exemplo interessante é a integral\n",
    "$$\n",
    "\\erf(x) = \\frac{2}{\\sqrt{\\pi}} \\int_0^x e^{-t^2} dt\n",
    "$$\n",
    "para qual não se conhece primitiva usando função usuais.\n",
    "\n",
    "Há ainda outras situações em que o processo de calcular a intergral a partir de uma primitiva pode ser indesejável ou impossível. Por exemplo, a expressão da primitiva pode ser muito complexa ou não conhecemos a expressão explícita de $f$ mas apenas temos $f$ tabelada em alguns pontos.\n",
    "\n",
    "Nesses casos uma possibilidade interessante é tentar realizar uma integração numérica de $f$, ou seja, tentar encontrar aproximações da integral desejada usando fórmulas que envolvam apenas o cômputo da função que se deseja integrar em alguns pontos pré-escolhidos ou mesmo nos pontos que temos à disposição. Vamos ver algumas alternativas para isso.\n",
    "\n",
    "## Regra do trapézio\n",
    "\n",
    "Imagine que queremos integrar uma função $f$ no intervalo $[a, b]$. Uma das possibilidades mais simples é aproximar a integral pela área do trapézio definido por $(a, f(a))$ e $(b, f(b))$.\n"
   ]
  },
  {
   "cell_type": "code",
   "execution_count": 1,
   "metadata": {
    "collapsed": false
   },
   "outputs": [
    {
     "data": {
      "image/png": "[encoded data removed]",
      "text/plain": [
       "PyPlot.Figure(PyObject <matplotlib.figure.Figure object at 0x7fb05334ce10>)"
      ]
     },
     "metadata": {},
     "output_type": "display_data"
    }
   ],
   "source": [
    "using PyPlot\n",
    "axis([0.5, 2.5, 0.0, 1.5])\n",
    "f(x) = sin(x) + 0.1*x.^2\n",
    "a, b = 1, 2.0\n",
    "x = linspace(a - 0.2, b + 0.2, 100)\n",
    "\n",
    "# Desenha f\n",
    "plot(x, f(x))\n",
    "\n",
    "#Desenha o polinomio interpolador de f\n",
    "plot([a, b], [f(a), f(b)], color=\"g\")\n",
    "\n",
    "# Desenha duas linhas verticais para facilitar a visualizacao\n",
    "plot([a, a], [0.0, f(a)], color=\"g\")\n",
    "plot([b, b], [0.0, f(b)], color=\"g\");"
   ]
  },
  {
   "cell_type": "markdown",
   "metadata": {},
   "source": [
    "Se chamarmos a distância entre $a$ e $b$ de $h$, temos imediatamente a aproximação\n",
    "$$\n",
    "\\int_a^b f(x) dx \\approx \\frac{f(a) + f(b)}{2}h \\equiv Q_T[f].\n",
    "$$\n",
    "Que no caso acima resulta em."
   ]
  },
  {
   "cell_type": "code",
   "execution_count": 2,
   "metadata": {
    "collapsed": false
   },
   "outputs": [
    {
     "name": "stdout",
     "output_type": "stream",
     "text": [
      "Valor aproximado: 1.125384205816789\n",
      "valor exato: 1.1897824757486155\n"
     ]
    }
   ],
   "source": [
    "# Valor aproximado.\n",
    "println(\"Valor aproximado: \", (f(1.0) + f(2.0))/2.0)\n",
    "\n",
    "# Podemos comparar com o valor exato já que é fácil calcular a primitiva de f.\n",
    "F(x) = -cos(x) + 0.1/3.0*x.^3\n",
    "println(\"valor exato: \", F(2.0) - F(1.0))"
   ]
  },
  {
   "cell_type": "markdown",
   "metadata": {},
   "source": [
    "Como podemos ver a fórmula simples de aproximação acima já acerta a primeira casa do resultado e erro por pouco a segunda. \n",
    "\n",
    "Agora como podemos melhorar isso? Basta seguir a ideia da definição de integral e subdividir o intervalo $[a, b]$ em $n$ intervalos menores, isto é definir pontos $a = x_0 < x_1 < x_2 < \\ldots < x_n = b$. Para simplificar vamos sempre considerar que os intervalos tem todos os mesmos tamanhos que chamaremos mais uma vez de $h$. Podemos então usar a fórmula do trapézio em cada subintervalo e por fim somar todas as áreas obtidas para a aproximar a área total. Ou seja fazemos\n",
    "\\begin{align*}\n",
    "\\int_a^b f(x) dx &\\approx h \\left( \\frac{f(x_0) + f(x_1)}{2} + \\frac{f(x_1) + f(x_2)}{2} + \\dots + \\frac{f(x_{n - 1}) + f(x_n)}{2} \\right) \\\\\n",
    "&= h \\left( \\frac{f(x_0)}{2} + f(x_1) + f(x_2) + \\ldots + f(x_{n - 1}) + \\frac{f(x_n)}{2} \\right) \\equiv Q_{TC}[f].\n",
    "\\end{align*}\n",
    "Essa fórmula é conhecida com regra do trapézio composta. Vamos vê-la em ação."
   ]
  },
  {
   "cell_type": "code",
   "execution_count": 3,
   "metadata": {
    "collapsed": false
   },
   "outputs": [
    {
     "name": "stdout",
     "output_type": "stream",
     "text": [
      "Intergral exata: 1.1897824757486155\n",
      "Integral aproximada: 1.1891519685914744\n",
      "Erro relativo: 5.299348e-04\n"
     ]
    }
   ],
   "source": [
    "# Integracao numérica usando a regra dos trapezios composta com n + 1 pontos.\n",
    "function TC(f, a, b, n=10)\n",
    "    h = (b - a) / n\n",
    "    integral = 0.5*(f(a) + f(b))\n",
    "    x = a + h\n",
    "    for i = 1:n-1\n",
    "        integral += f(x)\n",
    "        x += h\n",
    "    end\n",
    "    return h*integral\n",
    "end\n",
    "\n",
    "n = 10\n",
    "I= F(b) - F(a)\n",
    "println(\"Intergral exata: \", I)\n",
    "aprox = TC(f, a, b, n)\n",
    "println(\"Integral aproximada: \", aprox)\n",
    "@printf \"Erro relativo: %e\\n\" abs(I - aprox)/abs(I);"
   ]
  },
  {
   "cell_type": "markdown",
   "metadata": {},
   "source": [
    "Também devemos destacar que a hipótese de que todos os subintervalos são do mesmo comprimento apenas ajuda a simplificar a expressão, já que podemos usar a notação unificadora $h$ para esse comprimento. Caso os subintervalos tenham tamanhos distintos podemos ainda escrever\n",
    "$$\n",
    "\\int_a^b f(x) dx \\approx \\frac{(x_1 - x_0)(f(x_0) + f(x_1))}{2} + \\frac{(x_2 - x_1)(f(x_1) + f(x_2))}{2} + \\dots + \\frac{(x_n - x_{n -1})(f(x_{n - 1}) + f(x_n))}{2}, \n",
    "$$\n",
    "em que cada comprimento de subintervalo é aparece explicitamente.\n",
    "\n",
    "Outra observação interessante é que a regra do trapézio composta é equivalente a primeiro aproximarmos a função $f$ por uma spline linear para em seguida usarmos a integral da spline, que é exatamente $Q_{TC}[f]$, como aproximação da integral de $f$. Nesse contexto é interessante vermos se somos capazes de estimar o erro ao aproximar a integral, assim como conseguimos aproximar o erro em uma interpolação polinomial ou por splines. \n",
    "\n",
    "Para isso, vamos iniciar pensando na regra do trapézio simples. Nesse caso a fórmula do erro de interpolação por um polinômio de grau 1 garante que\n",
    "$$\n",
    "\\forall x \\in [a, b],\\ \\exists \\xi_x \\in (a, b),\\quad f(x) - p_1(x) = \\frac{f''(\\xi_x)}{2!}(x - a)(x - b).\n",
    "$$\n",
    "Segue imediatamente que\n",
    "\\begin{align}\n",
    "I - Q_T[f] = \\int_a^b f(x) dx - \\int_a^b p_1(x) dx &= \\int_a^b \\frac{f''(\\xi_x)}{2}(x - a)(x - b) dx \\\\\n",
    "&= \\frac{f''(\\eta)}{2} \\int_a^b (x - a)(x - b) dx \\\\\n",
    "&= -\\frac{(b - a)^3}{12} f''(\\eta)\n",
    "\\end{align}\n",
    "para algum $\\eta \\in (a, b)$. A segunda igualdade é consequência do teorema do valor médio para integrais que pode ser usado porque $(x - a)(x - b)$ não troca de sinal no intervalo $[a, b]$.\n",
    "\n",
    "Note que em particular se a segunda derivada de $f$ em $(a, b)$ for identicamente nula, ou seja se $f$ for afim em $[a, b]$ então a integral aproximada é exatamente igual a integral de $f$ como podíamos esperar.\n",
    "\n",
    "O que essa fórmula nos ensina é que ela somente é interessante quando o tamanho do intervalo é pequeno. Se o intervalo de integração for grande teremos que subdividí-lo, usando a regra composta. No caso podemos aplicar a fórmula de erro da integração em cada subintervalo o obteremos algo como:\n",
    "\\begin{align}\n",
    "I - Q_{TC}[f] &= \\text{Soma dos erros em cada subintervalo} \\\\\n",
    "&= -\\frac{n h^3}{12} \\sum_{i = 1}^n \\frac{f''(\\eta_i)}{n} \\\\\n",
    "&= -\\frac{n h^3}{12} f''(\\eta),\\quad \\eta \\in (a, b).\n",
    "\\end{align}\n",
    "Lebrando que $nh = b - a$, temos\n",
    "$$\n",
    "I - Q_{TC}[f] = -\\frac{(b - a) h^2}{12} f''(\\eta),\\quad \\eta \\in (a, b).\n",
    "$$\n",
    "\n",
    "Um dos usos importantes desse tipo de resultado é estimar quantos pontos são necessários para atingir uma precisão desejada.\n",
    "\n",
    "#### Exemplo\n",
    "\n",
    "Quantos pontos no intervalo $[0, 1]$ são necessários para estimar a integral\n",
    "$$\n",
    "I = \\int_0^1 e^{-x^2} dx\n",
    "$$ \n",
    "com erro menor ou igual a $10^{-4}$?\n",
    "\n",
    "Sabemos que \n",
    "$$\n",
    "| I - Q_{TC} | \\leq \\frac{(b - a)h^2}{12} M_2,\n",
    "$$\n",
    "em que $M_2$ é um limitante superior para o módulo da derivada segunda de $f$ que é $f''(x) = (4x^2 - 2)e^{-x^2}$. Vamos estimar $M_2$. Para $x \\in [0, 1]$,\n",
    "$$\n",
    "|(4x^2 - 2)e^{-x^2}| \\leq (4\\cdot1^2 - 2)e^0 = 2.\n",
    "$$\n",
    "A desigualdade se justifica porque a primeira função do produto varia de -2 a 2 quando $x$ varia de 0 a 1. Já a segunda função tem o módulo decrescente com $x$. Podemos então tomar $M_2 = 2$ acima e concluir que\n",
    "$$\n",
    "| I - Q_{TC} | \\leq \\frac{h^2}{12} 2 \\leq 10^{-4}.\n",
    "$$\n",
    "De onde vemos que precisamos escolher $h$ tal que\n",
    "$$\n",
    "h \\leq \\sqrt{6} \\cdot 10^{-2} \\implies n \\geq 41.\n",
    "$$\n",
    "Note que na estimativa acima estamos considerando um limitante superior para para o módulo da segunda derivada. De fato é possível atingir a precisão desejada com $n$ menor, como vemos no código abaixo."
   ]
  },
  {
   "cell_type": "code",
   "execution_count": 4,
   "metadata": {
    "collapsed": false
   },
   "outputs": [
    {
     "name": "stdout",
     "output_type": "stream",
     "text": [
      "Integral exata: 0.746824132812427\n",
      "Integral aproximada: 0.746726026396451\n",
      "Erro absoluto: 9.810642e-05\n"
     ]
    }
   ],
   "source": [
    "# Dados da funcao, primitiva e extremos de integracao.\n",
    "f(x) = exp(-x.^2)\n",
    "F(x) = sqrt(pi)/2.0*erf(x)\n",
    "a = 0.0\n",
    "b = 1.0\n",
    "\n",
    "# Aproxima e calcula o erro\n",
    "n = 25\n",
    "I = F(b) - F(a)\n",
    "println(\"Integral exata: \", I)\n",
    "aprox = TC(f, a, b, n)\n",
    "println(\"Integral aproximada: \", aprox)\n",
    "@printf \"Erro absoluto: %e\\n\" abs(I - aprox);"
   ]
  },
  {
   "cell_type": "markdown",
   "metadata": {},
   "source": [
    "Vemos que com 26 pontos já conseguimos o erro menor que $10^{-4}$, bem menos que os $41$ estimados.\n",
    "\n",
    "Em resumo temos uma regra bastante simples, que pode ser usada inclusive com intervalos irregulares se as alterações óbvias forem feitas. O erro de integração com múltiplos intervalos cai com $h^2$. \n",
    "\n",
    "Mas será que podemos fazer melhor do que isso?\n",
    "\n",
    "## Regra de Simpson\n",
    "\n",
    "Podemos obter outras regras de aproximação de integrais simplesmente usando splines de ordem mais alta. Por exemplo, podemos usar uma spline quadrática que interpole $f$ em três pontos consecutivos. Nesse caso, precisamos avaliar $f$ em pelo menos três pontos. Se considerarmos um intervalo $[a, b]$ e $m$ seu ponto médio o polinômio interpolador fica:\n",
    "$$\n",
    "p_2(x) = f_a + \\frac{x - a}{h} \\left( (f_m - f_a) + \\frac{f_b - 2f_m + f_a}{2h} (x - m) \\right),\n",
    "$$\n",
    "em que $h = (b - a)/2$, ou seja a distância entre dois pontos de interpolação. Para ver que o polinômio acima interpola $f$ em $a$, $m$ e $b$ basta calcular o seu valor nesses pontos e ver que ele recupera os valores originais $f_a = f(a)$, $f_m = f(m)$ e $f_b = f(b)$."
   ]
  },
  {
   "cell_type": "code",
   "execution_count": 5,
   "metadata": {
    "collapsed": false
   },
   "outputs": [
    {
     "data": {
      "image/png": "[encoded data removed]",
      "text/plain": [
       "PyPlot.Figure(PyObject <matplotlib.figure.Figure object at 0x7fb04cce58d0>)"
      ]
     },
     "metadata": {},
     "output_type": "display_data"
    }
   ],
   "source": [
    "using PyPlot\n",
    "axis([0.5, 2.5, 0.0, 1.5])\n",
    "f(x) = sin(x) + cos(2*x)+ 0.1*x.^2\n",
    "a, b = 1.0, 2.0\n",
    "m = (b + a) / 2\n",
    "x = linspace(a - 0.2, b + 0.2, 100)\n",
    "\n",
    "# Desenha f\n",
    "plot(x, f(x), label=L\"$f$\")\n",
    "\n",
    "#Desenha o polinomio interpolador de grau 2 de f\n",
    "h = (b - a) / 2\n",
    "fa = f(a)\n",
    "fb = f(b)\n",
    "fm = f(m)\n",
    "p2(x) = fa + (x - a)/h .* ((fm - fa) + (fb - 2*fm + fa)/(2*h) .* (x - m) )\n",
    "plot(x, p2(x), color = \"g\", label=\"polinômio\")\n",
    "legend()\n",
    "\n",
    "# Desenha duas linhas verticais para facilitar a visualizacao\n",
    "plot([a, a], [0.0, f(a)], color=\"g\")\n",
    "plot([b, b], [0.0, f(b)], color=\"g\");"
   ]
  },
  {
   "cell_type": "markdown",
   "metadata": {},
   "source": [
    "Apesar da fórmula de $p_2(x)$ ser um pouco assustadora, a fórmula de sua integral é simples:\n",
    "$$\n",
    "I = \\int_a^b f(x) dx \\approx \\int_a^b p_2(x) dx = \\frac{h}{3}(f_a + 4f_m + f_b) \\equiv Q_S[f].\n",
    "$$\n",
    "\n",
    "Aplicando essa fórmula no exemplo acima temos."
   ]
  },
  {
   "cell_type": "code",
   "execution_count": 6,
   "metadata": {
    "collapsed": false
   },
   "outputs": [
    {
     "name": "stdout",
     "output_type": "stream",
     "text": [
      "Integral exata: 0.35673251468181055\n",
      "Integral aproximada por Simpson: 0.3518313190395433\n"
     ]
    }
   ],
   "source": [
    "# Primitiva\n",
    "F(x) = -cos(x) + sin(2*x)/2 + 0.1/3*x.^3\n",
    "\n",
    "println(\"Integral exata: \", F(2.0) - F(1.0))\n",
    "println(\"Integral aproximada por Simpson: \", 0.5/3.0*(f(1.0) + 4*f(1.5) + f(2.0)))"
   ]
  },
  {
   "cell_type": "markdown",
   "metadata": {},
   "source": [
    "Agora como estender essa fórmula subdividindo o intervalo? Nesse caso precisamos de um número par de pontos para poder separar os grupos em 3 em 3 com extremos comuns em um esquema semelhante ao sugerido abaixo."
   ]
  },
  {
   "cell_type": "code",
   "execution_count": 7,
   "metadata": {
    "collapsed": false
   },
   "outputs": [
    {
     "data": {
      "image/png": "[encoded data removed]",
      "text/plain": [
       "PyPlot.Figure(PyObject <matplotlib.figure.Figure object at 0x7fb04d234210>)"
      ]
     },
     "metadata": {},
     "output_type": "display_data"
    }
   ],
   "source": [
    "axis([0.5, 2.5, 0.0, 1.5])\n",
    "\n",
    "# Desenha f\n",
    "a, b = 1.0, 2.0\n",
    "z = linspace(a - 0.2, b + 0.2, 100)\n",
    "plot(z, f(z))\n",
    "\n",
    "# Desenha duas linhas verticais para facilitar a visualizacao\n",
    "n = 4\n",
    "h = (b - a)/n\n",
    "x = linspace(a, b, n + 1)\n",
    "\n",
    "plot([x[1], x[1]], [0.0, f(x[1])], color=\"g\")\n",
    "plot([x[2], x[2]], [0.0, f(x[2])], color=\"g\", linestyle=\"--\")\n",
    "plot([x[3], x[3]], [0.0, f(x[3])], color=\"g\")\n",
    "plot([x[4], x[4]], [0.0, f(x[4])], color=\"g\", linestyle=\"--\")\n",
    "plot([x[5], x[5]], [0.0, f(x[5])], color=\"g\")\n",
    "xticks(x, [\"x0 = 1.0\", \"x1\", \"x2\", \"x3\", \"x4 = 2.0\"]);"
   ]
  },
  {
   "cell_type": "markdown",
   "metadata": {},
   "source": [
    "Ou seja, quebramos o intervalo de integração em grupos de dois em dois subintervalos a aplicamos a regra de Simpson em cada um deles.\n",
    "\n",
    "Isso, é claro pode ser generalizado para mais intervalos. Se temos $n + 1 $ pontos, com $n$ par, podemos construir $n / 2$ intervalos e obtemos a fórmula\n",
    "$$\n",
    "I = \\int_a^b f(x) dx = \\sum_{k = 1}^{n/2} \\int_{x_{2k - 2}}^{x_{2k}} f(x) dx \\approx \\sum_{k = 1}^{n /2} \\frac{h}{3} [f(x_{2k-2}) + 4 f(x_{2k - 1}) + f(x_{2k}) ] \\equiv Q_{SC}[f].\n",
    "$$\n",
    "conhecida como regra de Simpson composta.\n",
    "\n",
    "Mais uma vez podemos implementá-la."
   ]
  },
  {
   "cell_type": "code",
   "execution_count": 8,
   "metadata": {
    "collapsed": false
   },
   "outputs": [
    {
     "name": "stdout",
     "output_type": "stream",
     "text": [
      "Integral exata: 1.1897824757486155\n",
      "Aproximaçãopor trapézios compostos: 1.1891519685914744\n",
      "Aproximaçãopor Simposon composta: 1.1897830077424874\n",
      "Erro relativo ao usar trapézios compostos: 5.299348e-04\n",
      "Erro relativo ao usar Simpson composta: 4.471354e-07\n"
     ]
    }
   ],
   "source": [
    "# Dados\n",
    "f(x) = sin(x) + 0.1*x.^2\n",
    "F(x) = -cos(x) + 0.1/3.0*x.^3\n",
    "# Integracao numérica usando a regra de Simpson composta com n + 1 pontos.\n",
    "# n deve ser par\n",
    "function SC(f, a, b, n=10)\n",
    "    h = (b - a) / n\n",
    "    integral = f(a) + f(b)\n",
    "    x = a + h\n",
    "    for i = 1:n-1\n",
    "        if i % 2 == 0\n",
    "            integral += 2*f(x)\n",
    "        else\n",
    "            integral += 4*f(x)\n",
    "        end\n",
    "        x += h\n",
    "    end\n",
    "    return (h/3)*integral\n",
    "end\n",
    "\n",
    "n = 10\n",
    "I = F(b) - F(a)\n",
    "aproxTC = TC(f, a, b, n)\n",
    "aproxSC = SC(f, a, b, n)\n",
    "println(\"Integral exata: \", I)\n",
    "println(\"Aproximaçãopor trapézios compostos: \", aproxTC)\n",
    "println(\"Aproximaçãopor Simposon composta: \", aproxSC)\n",
    "@printf \"Erro relativo ao usar trapézios compostos: %e\\n\" abs(I - aproxTC)/abs(I)\n",
    "@printf \"Erro relativo ao usar Simpson composta: %e\\n\" abs(I - aproxSC)/abs(I)"
   ]
  },
  {
   "cell_type": "markdown",
   "metadata": {},
   "source": [
    "Veja que o resultado obtido pelo emprego da regra de Simpson composta é bem melhor do que o resultado obtido pela regra dos trapézios composta. Uma limitação da regra Simpson é que ela assume que os intervalos entre os pontos são sempre de mesmo comprimento, isso foi usando quando apresentamos a fórmula do polinômio interpolador de segundo grau.\n",
    "\n",
    "No caso da regra de Simpson é também possível estimar o erro esperado e observar que, qualitativamente, ele deve ser menor do que o erro da regra dos trapézios. De fato, usando uma análise semelhante a feita no caso dos trapézios podemos obter a seguinte expressão para o erro na regra de Simpson em um intervalo.\n",
    "\\begin{align}\n",
    "|I - Q_S[f]| = \\int_a^b f(x) dx - \\int_a^b p_2(x) dx &= \\left| \\int_a^b \\frac{f'''(\\xi_x)}{3!}(x - a)(x - m)(x - b) dx \\right| \\\\\n",
    "&\\leq \\int_a^b \\frac{| f'''(\\xi_x)|}{3!} \\left| (x - a)(x - m)(x - b) dx \\right| \\\\\n",
    "&= \\frac{| f'''(\\eta) |}{6} \\int_a^b | (x - a)(x - m)(x - b) | dx, \\quad \\eta \\in (a, b) \\\\\n",
    "&= \\frac{| f'''(\\eta) |}{6} \\frac{1}{2} \\left( \\frac{b - a}{2} \\right)^4, \\quad \\eta \\in (a, b) \\\\\n",
    "&= \\frac{| f'''(\\eta) | h^4}{12}, \\quad \\eta \\in (a, b).\n",
    "\\end{align}\n",
    "De novo usamos o teorema do valor intermediário para integrais na passagem mais complicada e o fato que $h = (b - a)/2$. Compare com o resultado obtido para o caso do método dos trapézios em particular observe que há uma tendência do erro ser menor já que a potência do $h$ é maior.\n",
    "\n",
    "Agora, uma análise um pouco mais sofisticada da expressão original permite provar que:\n",
    "$$\n",
    "I - Q_S[f] = -\\frac{f^{(4)}(\\eta)h^5}{90}, \\quad \\eta \\in (a, b).\n",
    "$$\n",
    "Note que, como o erro depende da derivada quarta de $f$, se a função original for um polinômio de grau até 3 o erro será zero. Isso é mais do que era esperado pela estratégia de construção da regra já que polinômio interpolador usado foi de grau 2. A potência real de $h$ também é maior, aumentando para 5. Esse fenômeno poderá ser melhor entendio abaixo quando falarmos de quadratura gaussiana. Mas de qualquer forma podemos verificar isso empirifamente com o programa:"
   ]
  },
  {
   "cell_type": "code",
   "execution_count": 18,
   "metadata": {
    "collapsed": false
   },
   "outputs": [
    {
     "name": "stdout",
     "output_type": "stream",
     "text": [
      "Valor calculado por Simpson simples: 34.1236300506995\n",
      "Valor exato, baseado na primitiva: 34.123630050699504\n",
      "Erro relativo: 2.0822601074516534e-16\n"
     ]
    }
   ],
   "source": [
    "# Um polinômio bem complicado de grau 3.\n",
    "p(x) = π*x.^3 + e*x.^2 + 2*x + 13\n",
    "# Sua primitiva, como é polinômio é fácil calcular.\n",
    "prim_p(x) = π*(x.^4/4) + e*(x.^3/3) + 2*(x.^2/2) + 13*x\n",
    "valor_simpson = SC(p, a, b, 2)\n",
    "valor_exato = prim_p(b) - prim_p(a)\n",
    "println(\"Valor calculado por Simpson simples: \", valor_simpson)\n",
    "println(\"Valor exato, baseado na primitiva: \", valor_exato)\n",
    "println(\"Erro relativo: \", abs(valor_simpson - valor_exato)/abs(valor_exato))"
   ]
  },
  {
   "cell_type": "markdown",
   "metadata": {},
   "source": [
    "Como você pode ver os dois valores diferem apenas dentro do epsilon da máquina, como a fórmula acima previa!\n",
    "\n",
    "Agora que sabemos o que ocorre com a regra simples, podemos estimar o que ocorre na regra de Simpson composta. Mais uma vez fazendo uma somatória obtemos.\n",
    "$$\n",
    "I - Q_{SC}[f] = -\\frac{n}{2}\\frac{h^5}{90}f^{(4)}(\\eta) = -\\frac{(b - a)h^4}{180} f^{(4)}(\\eta),\\quad \\eta \\in (a, b).\n",
    "$$\n",
    "Veja que o erro cai com $h^4$ que é potencialmente bem menor do que $h^2$ para $h$ pequeno. Isso confirma o resultado numérico obtido quando comparamos as duas regras.\n",
    "\n",
    "Podemos usar esses limitantes para obter estimativas do número necessários de pontos para conseguir uma precisão desejada, ou qual a precisão mínima esperada se usarmos uma quantidade de pontos dada. \n",
    "\n",
    "#### Exemplo\n",
    "\n",
    "Em quantos pontos são necessários para particionar o intervalo $[0, 1]$ para estimar a integral\n",
    "$$\n",
    "\\int_0^1 e^{-x^2} dx\n",
    "$$\n",
    "com erro menor ou igual a $10^{-4}$?\n",
    "\n",
    "Lembrando que já tínhamos calculado a derivada segunda da função que estamos integrando podemos partir de $f''(x) = (4x^2 - 2)e^{-x^2}$ e calcular as próximas derivadas chegando a $f^{(4)}(x) = 4(4x^4 - 12x^2 + 3)e^{-x^2}$. Obtemos então $12$ como limitante de $M_4$, já que o polinômio e a exponencial atingem máximo em $x = 0$. Teremos\n",
    "\\begin{gather}\n",
    "| I - Q_{SC}| \\leq \\frac{(b - a)h^4}{180}M_4 \\leq \\frac{h^4}{180} 12 \\leq 10^{-4} \\implies \\\\\n",
    "h^4 \\leq 15\\cdot10^{-4}.\n",
    "\\end{gather}\n",
    "Como $h = (b - a)/n$, obtemos $n \\geq 5,09$, basta tomar $n \\geq 6$ (lembre que temos que tomar $n$ par também, nesse caso isso veio naturalmente). Vamos verificar com o programa."
   ]
  },
  {
   "cell_type": "code",
   "execution_count": 33,
   "metadata": {
    "collapsed": false
   },
   "outputs": [
    {
     "name": "stdout",
     "output_type": "stream",
     "text": [
      "aproxSC = SC(f,a,b,6) = 1.1897865893513873\n",
      "abs(I - aproxSC) = 4.113602771749214e-6\n"
     ]
    }
   ],
   "source": [
    "@show aproxSC = SC(f, a, b, 6)\n",
    "@show abs(I - aproxSC);"
   ]
  },
  {
   "cell_type": "markdown",
   "metadata": {},
   "source": [
    "E de fato vemos que a precisão obtida foi menor do que $10^{-4}$.\n",
    "\n",
    "## Newton-Cotes\n",
    "\n",
    "Como já vimos, uma forma simples de gerar novas regras de aproximação de integrais é escolher pontos dentro do intervalo integração na forma $a = x_0 < x_1 < \\ldots < x_n = b$ e passar por esses pontos um polinômio interpolador. Tipicamente esses pontos intermediários são igualmente espaçados. Essa foi a forma que usamos para obter as regras do trapézio e de Simpson.\n",
    "\n",
    "Por outro lado, lembrando da expressão geral do polinômio interpolador, dada por Legendre, temos para um polinômio de grau arbitrário:\n",
    "\\begin{align}\n",
    "I = \\int_a^b f(x) dx &\\approx \\int_a^b p_n(x) dx \\\\\n",
    "&=\\int_a^b \\sum_{k = 0}^n f(x_k)l^n_k(x) dx \\\\\n",
    "&=\\sum_{k = 0}^n f(x_k) \\int_a^b l^n_k(x) dx.\n",
    "\\end{align}\n",
    "Se chamarmos de $A_k$ os valores $\\int_{a}^{b} l^{n}_{k}(x) dx$, $k = 0, \\ldots, n$, temos a fórmula\n",
    "$$\n",
    "I = \\int_a^b f(x) dx \\approx \\sum_{k = 0}^n A_k f(x_k) \\equiv Q_n[f].\n",
    "$$\n",
    "Ou seja, as integrais são aproximadas por somatórias de pesos $A_k$ vezes os valores de $f$ nos pontos $x_k$. Além disso essa fórmula nos mostra que para definir uma dessas regras basta encontrar os pesos $A_k$. Esses podem ser obtidos integrando os polinômios de Legendre o que precisa ser feito uma única vez. \n",
    "\n",
    "Outra possibilidade é lembrar que os pesos $A_k$ devem ser escolhidos para garantir que a integral de polinômios de ordem até $n$ sejam exatas. Como a integral da soma é a soma das integrais isso pode ser garantido simplesmente pedindo que as equações\n",
    "$$\n",
    "Q_n[x^k] = \\int_{a}^b x^k dx, k = 0, \\ldots, n\n",
    "$$\n",
    "Sejam válidas exatamente.\n",
    "\n",
    "Resolver essas equações é muitas vezes mais simples do que calcular as integrais dos polinômios de Legendre. Vamos ver o exemplo de Simpson. Nesse caso temos $x_0 = a,\\ x_1 = (a+b) /2,\\ x_2 = b$. As equaçoes acima ficam:\n",
    "\\begin{align}\n",
    "\\int_a^b 1 dx = (b - a) &= A_0 + A_1 + A_2 && [\\text{Aqui } f(x) = x^0 = 1] \\\\\n",
    "\\int_a^b x dx = \\frac{b^2 - a^2}{2} &= A_0a + A_1\\frac{a + b}{2} + A_2b && [\\text{Aqui } f(x) = x] \\\\\n",
    "\\int_a^b x^2 dx = \\frac{b^3 - a^3}{3} &= A_0a^2 + A_1\\frac{(a + b)^2}{4} + A_2b^2 && [\\text{Aqui } f(x) = x^2].\n",
    "\\end{align}\n",
    "O que fornece um sistema de três equações com três icógnitas. Esse sistema pode fer facilmente resolvido no computador para um caso específico em que $a$ e $b$ são conhecidos, obtendo assim os respectivos $A_0,\\ A_1,\\ A_3$. De fato, esse sistema pode ser resolvido de forma genérica dando\n",
    "$$\n",
    "A_0 = A_2 = \\frac{b - a}{6},\\quad A_1 = \\frac{4(b-a)}{6}.\n",
    "$$\n",
    "Substituindo na fórmula geral da integral obtemos exatamente a fórmula de Simpson\n",
    "$$\n",
    "I = \\int_a^b f(x) dx \\approx \\sum_{k = 0}^n A_k f(x_k) = \\frac{b-a}{6}\\left[f(a) + 4 f\\left(\\frac{a + b}{2}\\right) + f(b) \\right],\n",
    "$$\n",
    "lembre que o $h$ que aparece na fórmula original é metade do comprimento do intervalo e assim as duas fórmulas são iguais.\n",
    "\n",
    "Essa mesma estratégia pode ser usada para obter fórmulas para polinômios de qualquer grau, seguindo o seguinte roteiro, conhecido como abordagem de Newton-Cotes.\n",
    "\n",
    "1. Divide-se o intervalo $[a, b]$ usando $n$ pontos, tipicamente igualmente espaçados.\n",
    "\n",
    "1. Resolve-se o sistema de equações em $A_k,\\ k = 0, \\ldots, n$\n",
    "$$\n",
    "A_0 x_0^k + A_1 x_1^k + \\ldots A_n x_n^k = \\int_{a}^b x^k dx,\\quad k = 0, \\ldots n.\n",
    "$$\n",
    "\n",
    "1. A integral de uma função geral é então aproximada por \n",
    "$$\n",
    "I = \\int_a^b f(x) dx \\approx \\sum_{k = 0}^n A_k f(x_k).\n",
    "$$\n",
    "\n",
    "Em geral não é bom usar polinômios de grau muito alto, pelos menos problemas já citados quando vimos interpolação polinomial. Nesse caso a solução natural para usar mais pontos é fazer uma variante de fórmula compondo intervalos consecutivos.\n",
    "\n",
    "## Quadratura Gaussiana\n",
    "\n",
    "Vimos nas fórmulas de Newton-Cottes que podemos aproximar\n",
    "$$\n",
    "I = \\int_a^b f(x) dx \\approx \\sum_{k = 0}^n A_k f(x_k),\n",
    "$$\n",
    "escolhendo os coeficientes $A_k,\\ k = 0, \\ldots, n$ de forma adequada.\n",
    "\n",
    "Uma opção interessante, quando podemos calcular $f$ em qualquer lugar e não apenas em pontos pré-fixados, é ver se podemos ganhar algo considerando que podemos escolher também a posição dos pontos $x_0, x_1, \\ldots, x_n$ dentro do intervalod $[a, b]$. Nesse caso teríamos ao todo $2n$ icógnitas e obteríamos a abordagem da _Quadratura Gausssiana_. \n",
    "\n",
    "Para ver como isso funciona vamos ver o caso simples de $x = 1$ com $[a, b] = [-1, 1]$. Nesse caso queremos aproximar \n",
    "$$\n",
    "I = \\int_{-1}^1 f(x) dx \\approx A_0 f(x_0) + A_1 f(x_1),\n",
    "$$\n",
    "e podemos escolher tanto os coeficientes $A_0, A_1$ e os pontos $x_0, x_1$ (no intervalo). Como são quatro icógnitas podemos tentar forçar quatro equações para polinômios de grau até 3. Resultado no sistema\n",
    "\\begin{align*}\n",
    "Q[1] = \\int_{-1}^1 1 dx = 2 &= A_0 + A_1 \\\\\n",
    "Q[x] = \\int_{-1}^1 x dx = 0 &= A_0x_0 + A_1x_1 \\\\\n",
    "Q[x^2] = \\int_{-1}^1 x^2 dx = \\frac{2}{3} &= A_0x_0^2 + A_1x_1^2 \\\\\n",
    "Q[x^3] = \\int_{-1}^1 x^3 dx = 0 &= A_0x_0^3 + A_1x_1^3 \\\\\n",
    "\\end{align*}\n",
    "Note que o sistema obtido é não linear, sendo então muito mais complexo para resolver que o sistema linear de uma fórmula de Newton-Cottes. Com algum esforço podemos resolver o sistema acima obtendo\n",
    "$$\n",
    "A_0 = A_1 = 1,\\quad x_0=-\\frac{\\sqrt{3}}{3} = -x_1.\n",
    "$$\n",
    "O que nos dá a fórmula de Gauss-Legendre de integração:\n",
    "$$\n",
    "I = \\int_{-1}^1 f(x) dx \\approx f\\left( -\\frac{\\sqrt{3}}{3} \\right) + f\\left( -\\frac{\\sqrt{3}}{3} \\right).\n",
    "$$\n",
    "Que usando apenas dois pontos consegue ser exata para polinômios de grau até 3. \n",
    "\n",
    "Observe que o o fato do intervalo de integração ser fixo $[-1, 1]$ não é de grande importância. A integral de uma função em um intervalo qualquer $[a, b]$ pode ser transformada na integral de uma outra semelhante em $[-1, 1]$ que é obtida da função original através de translação e mudança de escala dos argumentos. Pense em como fazer isso.\n",
    "\n",
    "\n",
    "Vamos implementar a regra de Gauss-Legendre e comparar com o método do Trapézio."
   ]
  },
  {
   "cell_type": "code",
   "execution_count": 34,
   "metadata": {
    "collapsed": false
   },
   "outputs": [
    {
     "name": "stdout",
     "output_type": "stream",
     "text": [
      "Erro relativo com a regra do trapézio: 5.074082e-01\n",
      "Erro relativo com a regra de Gauss-Legendre: 4.056219e-02\n"
     ]
    }
   ],
   "source": [
    "# Dados\n",
    "f(x) = exp(-x.^2)\n",
    "F(x) = sqrt(pi)/2.0*erf(x)\n",
    "a = -1.0\n",
    "b = 1.0\n",
    "\n",
    "# Integracao numérica usando a regra de Gauss Legenre para [-1, 1].\n",
    "function GL(f)\n",
    "    arg = sqrt(3)/3\n",
    "    return f(-arg) + f(arg)\n",
    "end\n",
    "\n",
    "I = F(1) - F(-1)\n",
    "aproxT = TC(f, -1, 1, 1)\n",
    "aproxGL = GL(f)\n",
    "@printf \"Erro relativo com a regra do trapézio: %e\\n\" abs(I - aproxT)/abs(I)\n",
    "@printf \"Erro relativo com a regra de Gauss-Legendre: %e\\n\" abs(I - aproxGL)/abs(I)"
   ]
  },
  {
   "cell_type": "markdown",
   "metadata": {},
   "source": [
    "É claro que também é possível fazer uma versão composta da regra de Gauss-Legendre, que resulta em bons resultados com poucas avaliações das funções.\n",
    "\n",
    "Isso pode ser generalizado para polinômios de grau mais alto usando-se a ideia de polinômios ortogonais. Porém isso foge ao escopo do curso."
   ]
  },
  {
   "cell_type": "code",
   "execution_count": null,
   "metadata": {
    "collapsed": true
   },
   "outputs": [],
   "source": []
  }
 ],
 "metadata": {
  "kernelspec": {
   "display_name": "Julia 0.4.5",
   "language": "julia",
   "name": "julia-0.4"
  },
  "language_info": {
   "file_extension": ".jl",
   "mimetype": "application/julia",
   "name": "julia",
   "version": "0.4.5"
  }
 },
 "nbformat": 4,
 "nbformat_minor": 0
}
