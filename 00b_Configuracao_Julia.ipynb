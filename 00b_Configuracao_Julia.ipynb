{
 "cells": [
  {
   "cell_type": "markdown",
   "metadata": {},
   "source": [
    "# Usando Julia a primeira vez\n",
    "\n",
    "Para essas notas de aulas queremos usar cadernos de Julia baseados na versão 1.6 da linguagem.\n",
    "\n",
    "Estes cadernos, além de funcionarem como notas de aula, possuem código funcional. Creio que essa é uma ótima forma de explorar um pouco mais as ideias apresentadas no curso e fazer seus próprios experimentos.\n",
    "\n",
    "Para poder rodar o código você deve instalar a linguagem Julia em um computador ao qual vocẽ tenha acesso. Para isso vá até o site da [Julia](https://julialang.org) e clique em \"Donwload\". Pegue o instalador adequado ao seu sistema operacional e siga as instruções. Uma opção para quem usa Windows é usar o [JuliaUp](https://www.microsoft.com/en-us/p/julia/9njnww8pvkmn). Ele pode ser instalado diretamente a da loja de aplicativos do sistema.\n",
    "\n",
    "Sugiro criar um diretório de trabalho específico para o curso (no Windows procure usar um diretório que não contenha espaços no seu nome). No windows você pode iniciar o intepreador da Julia a partir do menu iniciar. No Linux é mais natural abrir um terminal e digitar `julia`. Isso irá abrir o interpretador da linguagem no seu modo mais simples. Precisamos disso para instalar o ambiente Jupyter que será capaz de lidar com os cadernos. No interpretador digite:\n",
    "\n",
    "```julia\n",
    "ENV[\"CONDA_JL_USE_MINIFORGE\"] = \"1\"\n",
    "using Pkg\n",
    "Pkg.add([\"IJulia\", \"Plots\", \"LaTeXStrings\", \"Polynomials\"])\n",
    "```\n",
    "\n",
    "Esses comandos irão instalar o [Jupyter](https://jupyter.org/), que é o sistema de cadernos. Essa operação, aparentemente simples, vai baixar vários pacotes e demora um pouco. Por isso sugiro deixar a Julia trabalhando e ir tomar um café. Note também que instalar Julia + Jupyter irá consumir cerca de 6Gb de espaço em disco, caso você não tenha o Python e o Jupyter instalados usando `conda` (ou Anaconda) disponível no seu `PATH`. Caso já tenha o Python + Jupyter instalados, o uso de disco deve ser em torno de 1-2Gb. \n",
    "\n",
    "Depois, você poderá passar a ler e editar os cadernos da disciplina que podem ser baixados do [Github](https://github.com/pjssilva/ms211). Basta entrar na linha de comando mais uma vez, de novo digitar `julia` e então\n",
    "\n",
    "```julia\n",
    "using IJulia\n",
    "notebook(dir=homedir())\n",
    "```\n",
    "Obs: Se você estiver fazendo isso pela primeira vez o sistema pergunta se deve instalar o Jupyter usando conda. Diga `y` e se prepare para esperar terminar mais um processo de instalação.\n",
    "\n",
    "Isso vai iniciar o Jupyter no seu diretório padrão do sistema operacional e o browser abrirá uma nova aba para você selecionar um caderno e trabalhar com ele. Em seguida, vale à pena você seguir a leitura e executar os comandos abaixo para testar se os pacotes foram instalados corretamente. Rode o código abaixo mais uma vez colocando o cursor lá e apertando shift-enter no teclado. Se deu tudo certo aparecerá o gráfico de uma função linear. Tenha um pouco de paciência, a primeira vez que você tenta gerar um gráfico é demorado. Os próximos gráficos devem aparecer mais rapidamente."
   ]
  },
  {
   "cell_type": "code",
   "execution_count": null,
   "metadata": {},
   "outputs": [],
   "source": [
    "# Carrega a biblioteca Plots para uso\n",
    "using Plots\n",
    "using LaTeXStrings\n",
    "\n",
    "# Gera um vetor de 100 pontos equiespaçados começando no 2 e terminando no 5.\n",
    "x = LinRange(2, 5, 100)\n",
    "plot(x, 2*x .+ 3, label=\"\")\n",
    "title!(L\"$f(x) = 2x + 3$\")"
   ]
  },
  {
   "cell_type": "markdown",
   "metadata": {
    "collapsed": true
   },
   "source": [
    "Por fim, para provar que você chegou até aqui rode o código abaixo para saber a resposta para obter a resposta para o primeiro quizz no Moodle."
   ]
  },
  {
   "cell_type": "code",
   "execution_count": null,
   "metadata": {},
   "outputs": [],
   "source": [
    "using Printf \n",
    "\n",
    "A = [pi 2*pi; 1 0]\n",
    "b = [1, 2.62]\n",
    "sol = A \\ b\n",
    "@printf \"A resposta é %.2f\\n\" sol[1]"
   ]
  }
 ],
 "metadata": {
  "kernelspec": {
   "display_name": "Julia 1.6.2",
   "language": "julia",
   "name": "julia-1.6"
  },
  "language_info": {
   "file_extension": ".jl",
   "mimetype": "application/julia",
   "name": "julia",
   "version": "1.6.2"
  },
  "latex_metadata": {
   "title": "Configurando Julia"
  }
 },
 "nbformat": 4,
 "nbformat_minor": 1
}
